import numpy as np
import matplotlib.pyplot as plt

# Gittergröße
n = 20
T = np.zeros((n, n))

# Randbedingung: rechte Seite warm
T[:, -1] = 100

def gauss_seidel_step(T):
    for i in range(1, n-1):
        for j in range(1, n-1):
            T[i, j] = 0.25 * (T[i+1, j] + T[i-1, j] + T[i, j+1] + T[i, j-1])
    return T

# Mehrere Iterationen durchführen
for k in range(50):
    T = gauss_seidel_step(T)

# Ergebnis anzeigen
plt.imshow(T, cmap='hot', origin='lower')
plt.colorbar(label='Temperatur')
plt.title('Temperaturverteilung nach 50 Iterationen')
plt.show()

